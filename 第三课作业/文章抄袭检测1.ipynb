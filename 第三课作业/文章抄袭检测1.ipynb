{
 "cells": [
  {
   "cell_type": "code",
   "execution_count": 2,
   "metadata": {},
   "outputs": [],
   "source": [
    "import pandas as pd \n",
    "import numpy as np "
   ]
  },
  {
   "cell_type": "code",
   "execution_count": 3,
   "metadata": {
    "scrolled": true
   },
   "outputs": [],
   "source": [
    "data = pd.read_csv('sqlResult.csv',encoding = 'gb18030')"
   ]
  },
  {
   "cell_type": "code",
   "execution_count": 4,
   "metadata": {},
   "outputs": [
    {
     "data": {
      "text/html": [
       "<div>\n",
       "<style scoped>\n",
       "    .dataframe tbody tr th:only-of-type {\n",
       "        vertical-align: middle;\n",
       "    }\n",
       "\n",
       "    .dataframe tbody tr th {\n",
       "        vertical-align: top;\n",
       "    }\n",
       "\n",
       "    .dataframe thead th {\n",
       "        text-align: right;\n",
       "    }\n",
       "</style>\n",
       "<table border=\"1\" class=\"dataframe\">\n",
       "  <thead>\n",
       "    <tr style=\"text-align: right;\">\n",
       "      <th></th>\n",
       "      <th>id</th>\n",
       "      <th>author</th>\n",
       "      <th>source</th>\n",
       "      <th>content</th>\n",
       "      <th>feature</th>\n",
       "      <th>title</th>\n",
       "      <th>url</th>\n",
       "    </tr>\n",
       "  </thead>\n",
       "  <tbody>\n",
       "    <tr>\n",
       "      <th>0</th>\n",
       "      <td>89617</td>\n",
       "      <td>NaN</td>\n",
       "      <td>快科技@http://www.kkj.cn/</td>\n",
       "      <td>此外，自本周（6月12日）起，除小米手机6等15款机型外，其余机型已暂停更新发布（含开发版/...</td>\n",
       "      <td>{\"type\":\"科技\",\"site\":\"cnbeta\",\"commentNum\":\"37\"...</td>\n",
       "      <td>小米MIUI 9首批机型曝光：共计15款</td>\n",
       "      <td>http://www.cnbeta.com/articles/tech/623597.htm</td>\n",
       "    </tr>\n",
       "    <tr>\n",
       "      <th>1</th>\n",
       "      <td>89616</td>\n",
       "      <td>NaN</td>\n",
       "      <td>快科技@http://www.kkj.cn/</td>\n",
       "      <td>骁龙835作为唯一通过Windows 10桌面平台认证的ARM处理器，高通强调，不会因为只考...</td>\n",
       "      <td>{\"type\":\"科技\",\"site\":\"cnbeta\",\"commentNum\":\"15\"...</td>\n",
       "      <td>骁龙835在Windows 10上的性能表现有望改善</td>\n",
       "      <td>http://www.cnbeta.com/articles/tech/623599.htm</td>\n",
       "    </tr>\n",
       "    <tr>\n",
       "      <th>2</th>\n",
       "      <td>89615</td>\n",
       "      <td>NaN</td>\n",
       "      <td>快科技@http://www.kkj.cn/</td>\n",
       "      <td>此前的一加3T搭载的是3400mAh电池，DashCharge快充规格为5V/4A。\\r\\n...</td>\n",
       "      <td>{\"type\":\"科技\",\"site\":\"cnbeta\",\"commentNum\":\"18\"...</td>\n",
       "      <td>一加手机5细节曝光：3300mAh、充半小时用1天</td>\n",
       "      <td>http://www.cnbeta.com/articles/tech/623601.htm</td>\n",
       "    </tr>\n",
       "    <tr>\n",
       "      <th>3</th>\n",
       "      <td>89614</td>\n",
       "      <td>NaN</td>\n",
       "      <td>新华社</td>\n",
       "      <td>这是6月18日在葡萄牙中部大佩德罗冈地区拍摄的被森林大火烧毁的汽车。新华社记者张立云摄\\r\\n</td>\n",
       "      <td>{\"type\":\"国际新闻\",\"site\":\"环球\",\"commentNum\":\"0\",\"j...</td>\n",
       "      <td>葡森林火灾造成至少62人死亡 政府宣布进入紧急状态（组图）</td>\n",
       "      <td>http://world.huanqiu.com/hot/2017-06/10866126....</td>\n",
       "    </tr>\n",
       "    <tr>\n",
       "      <th>4</th>\n",
       "      <td>89613</td>\n",
       "      <td>胡淑丽_MN7479</td>\n",
       "      <td>深圳大件事</td>\n",
       "      <td>（原标题：44岁女子跑深圳约会网友被拒，暴雨中裸身奔走……）\\r\\n@深圳交警微博称：昨日清...</td>\n",
       "      <td>{\"type\":\"新闻\",\"site\":\"网易热门\",\"commentNum\":\"978\",...</td>\n",
       "      <td>44岁女子约网友被拒暴雨中裸奔 交警为其披衣相随</td>\n",
       "      <td>http://news.163.com/17/0618/00/CN617P3Q0001875...</td>\n",
       "    </tr>\n",
       "  </tbody>\n",
       "</table>\n",
       "</div>"
      ],
      "text/plain": [
       "      id      author                  source  \\\n",
       "0  89617         NaN  快科技@http://www.kkj.cn/   \n",
       "1  89616         NaN  快科技@http://www.kkj.cn/   \n",
       "2  89615         NaN  快科技@http://www.kkj.cn/   \n",
       "3  89614         NaN                     新华社   \n",
       "4  89613  胡淑丽_MN7479                   深圳大件事   \n",
       "\n",
       "                                             content  \\\n",
       "0  此外，自本周（6月12日）起，除小米手机6等15款机型外，其余机型已暂停更新发布（含开发版/...   \n",
       "1  骁龙835作为唯一通过Windows 10桌面平台认证的ARM处理器，高通强调，不会因为只考...   \n",
       "2  此前的一加3T搭载的是3400mAh电池，DashCharge快充规格为5V/4A。\\r\\n...   \n",
       "3    这是6月18日在葡萄牙中部大佩德罗冈地区拍摄的被森林大火烧毁的汽车。新华社记者张立云摄\\r\\n   \n",
       "4  （原标题：44岁女子跑深圳约会网友被拒，暴雨中裸身奔走……）\\r\\n@深圳交警微博称：昨日清...   \n",
       "\n",
       "                                             feature  \\\n",
       "0  {\"type\":\"科技\",\"site\":\"cnbeta\",\"commentNum\":\"37\"...   \n",
       "1  {\"type\":\"科技\",\"site\":\"cnbeta\",\"commentNum\":\"15\"...   \n",
       "2  {\"type\":\"科技\",\"site\":\"cnbeta\",\"commentNum\":\"18\"...   \n",
       "3  {\"type\":\"国际新闻\",\"site\":\"环球\",\"commentNum\":\"0\",\"j...   \n",
       "4  {\"type\":\"新闻\",\"site\":\"网易热门\",\"commentNum\":\"978\",...   \n",
       "\n",
       "                           title  \\\n",
       "0           小米MIUI 9首批机型曝光：共计15款   \n",
       "1     骁龙835在Windows 10上的性能表现有望改善   \n",
       "2      一加手机5细节曝光：3300mAh、充半小时用1天   \n",
       "3  葡森林火灾造成至少62人死亡 政府宣布进入紧急状态（组图）   \n",
       "4       44岁女子约网友被拒暴雨中裸奔 交警为其披衣相随   \n",
       "\n",
       "                                                 url  \n",
       "0     http://www.cnbeta.com/articles/tech/623597.htm  \n",
       "1     http://www.cnbeta.com/articles/tech/623599.htm  \n",
       "2     http://www.cnbeta.com/articles/tech/623601.htm  \n",
       "3  http://world.huanqiu.com/hot/2017-06/10866126....  \n",
       "4  http://news.163.com/17/0618/00/CN617P3Q0001875...  "
      ]
     },
     "execution_count": 4,
     "metadata": {},
     "output_type": "execute_result"
    }
   ],
   "source": [
    "data.head()"
   ]
  },
  {
   "cell_type": "code",
   "execution_count": 5,
   "metadata": {},
   "outputs": [
    {
     "name": "stdout",
     "output_type": "stream",
     "text": [
      "<class 'pandas.core.frame.DataFrame'>\n",
      "RangeIndex: 89611 entries, 0 to 89610\n",
      "Data columns (total 7 columns):\n",
      " #   Column   Non-Null Count  Dtype \n",
      "---  ------   --------------  ----- \n",
      " 0   id       89611 non-null  int64 \n",
      " 1   author   79396 non-null  object\n",
      " 2   source   89609 non-null  object\n",
      " 3   content  87054 non-null  object\n",
      " 4   feature  89611 non-null  object\n",
      " 5   title    89577 non-null  object\n",
      " 6   url      87144 non-null  object\n",
      "dtypes: int64(1), object(6)\n",
      "memory usage: 4.8+ MB\n"
     ]
    }
   ],
   "source": [
    "data.info()"
   ]
  },
  {
   "cell_type": "markdown",
   "metadata": {},
   "source": [
    "## 数据清洗"
   ]
  },
  {
   "cell_type": "markdown",
   "metadata": {},
   "source": [
    "### 1 content和source为空的条目对于抄袭检测无意义"
   ]
  },
  {
   "cell_type": "code",
   "execution_count": 6,
   "metadata": {},
   "outputs": [],
   "source": [
    "data = data.dropna(subset = ['source','content'],how = 'any')\n",
    "data.reset_index(inplace = True)"
   ]
  },
  {
   "cell_type": "code",
   "execution_count": 7,
   "metadata": {},
   "outputs": [
    {
     "data": {
      "text/html": [
       "<div>\n",
       "<style scoped>\n",
       "    .dataframe tbody tr th:only-of-type {\n",
       "        vertical-align: middle;\n",
       "    }\n",
       "\n",
       "    .dataframe tbody tr th {\n",
       "        vertical-align: top;\n",
       "    }\n",
       "\n",
       "    .dataframe thead th {\n",
       "        text-align: right;\n",
       "    }\n",
       "</style>\n",
       "<table border=\"1\" class=\"dataframe\">\n",
       "  <thead>\n",
       "    <tr style=\"text-align: right;\">\n",
       "      <th></th>\n",
       "      <th>index</th>\n",
       "      <th>id</th>\n",
       "      <th>author</th>\n",
       "      <th>source</th>\n",
       "      <th>content</th>\n",
       "      <th>feature</th>\n",
       "      <th>title</th>\n",
       "      <th>url</th>\n",
       "    </tr>\n",
       "  </thead>\n",
       "  <tbody>\n",
       "    <tr>\n",
       "      <th>0</th>\n",
       "      <td>0</td>\n",
       "      <td>89617</td>\n",
       "      <td>NaN</td>\n",
       "      <td>快科技@http://www.kkj.cn/</td>\n",
       "      <td>此外，自本周（6月12日）起，除小米手机6等15款机型外，其余机型已暂停更新发布（含开发版/...</td>\n",
       "      <td>{\"type\":\"科技\",\"site\":\"cnbeta\",\"commentNum\":\"37\"...</td>\n",
       "      <td>小米MIUI 9首批机型曝光：共计15款</td>\n",
       "      <td>http://www.cnbeta.com/articles/tech/623597.htm</td>\n",
       "    </tr>\n",
       "    <tr>\n",
       "      <th>1</th>\n",
       "      <td>1</td>\n",
       "      <td>89616</td>\n",
       "      <td>NaN</td>\n",
       "      <td>快科技@http://www.kkj.cn/</td>\n",
       "      <td>骁龙835作为唯一通过Windows 10桌面平台认证的ARM处理器，高通强调，不会因为只考...</td>\n",
       "      <td>{\"type\":\"科技\",\"site\":\"cnbeta\",\"commentNum\":\"15\"...</td>\n",
       "      <td>骁龙835在Windows 10上的性能表现有望改善</td>\n",
       "      <td>http://www.cnbeta.com/articles/tech/623599.htm</td>\n",
       "    </tr>\n",
       "  </tbody>\n",
       "</table>\n",
       "</div>"
      ],
      "text/plain": [
       "   index     id author                  source  \\\n",
       "0      0  89617    NaN  快科技@http://www.kkj.cn/   \n",
       "1      1  89616    NaN  快科技@http://www.kkj.cn/   \n",
       "\n",
       "                                             content  \\\n",
       "0  此外，自本周（6月12日）起，除小米手机6等15款机型外，其余机型已暂停更新发布（含开发版/...   \n",
       "1  骁龙835作为唯一通过Windows 10桌面平台认证的ARM处理器，高通强调，不会因为只考...   \n",
       "\n",
       "                                             feature  \\\n",
       "0  {\"type\":\"科技\",\"site\":\"cnbeta\",\"commentNum\":\"37\"...   \n",
       "1  {\"type\":\"科技\",\"site\":\"cnbeta\",\"commentNum\":\"15\"...   \n",
       "\n",
       "                        title                                             url  \n",
       "0        小米MIUI 9首批机型曝光：共计15款  http://www.cnbeta.com/articles/tech/623597.htm  \n",
       "1  骁龙835在Windows 10上的性能表现有望改善  http://www.cnbeta.com/articles/tech/623599.htm  "
      ]
     },
     "execution_count": 7,
     "metadata": {},
     "output_type": "execute_result"
    }
   ],
   "source": [
    "data.head(2)"
   ]
  },
  {
   "cell_type": "markdown",
   "metadata": {},
   "source": [
    "### 2 分词"
   ]
  },
  {
   "cell_type": "code",
   "execution_count": 8,
   "metadata": {},
   "outputs": [],
   "source": [
    "import jieba as jb"
   ]
  },
  {
   "cell_type": "markdown",
   "metadata": {},
   "source": [
    "- 停用词\n"
   ]
  },
  {
   "cell_type": "code",
   "execution_count": 9,
   "metadata": {},
   "outputs": [],
   "source": [
    "with open('chinese_stopwords.txt','r',encoding = 'utf-8') as file:\n",
    "    stopword_list = [line.strip() for line in file.readlines()]"
   ]
  },
  {
   "cell_type": "code",
   "execution_count": 10,
   "metadata": {},
   "outputs": [
    {
     "data": {
      "text/plain": [
       "['，', '的', '。']"
      ]
     },
     "execution_count": 10,
     "metadata": {},
     "output_type": "execute_result"
    }
   ],
   "source": [
    "stopword_list[:3]"
   ]
  },
  {
   "cell_type": "code",
   "execution_count": 11,
   "metadata": {},
   "outputs": [
    {
     "data": {
      "text/plain": [
       "'的'"
      ]
     },
     "execution_count": 11,
     "metadata": {},
     "output_type": "execute_result"
    }
   ],
   "source": [
    "stopword_list[1] #== ''"
   ]
  },
  {
   "cell_type": "code",
   "execution_count": 12,
   "metadata": {},
   "outputs": [],
   "source": [
    "none_sense_str = ['\\n',' ','\\t','\\r']\n",
    "stopword_list += none_sense_str"
   ]
  },
  {
   "cell_type": "code",
   "execution_count": 13,
   "metadata": {},
   "outputs": [],
   "source": [
    "def sentence_split(text):\n",
    "    print(text)\n",
    "    text = text.replace(' ', '').replace('\\n', '').replace('\\r', '')\n",
    "    text = jb.cut(text)\n",
    "    text = [i for i in text if i not in stopword_list]\n",
    "    return ' '.join(text)\n",
    "    "
   ]
  },
  {
   "cell_type": "code",
   "execution_count": 14,
   "metadata": {},
   "outputs": [
    {
     "name": "stderr",
     "output_type": "stream",
     "text": [
      "Building prefix dict from the default dictionary ...\n"
     ]
    },
    {
     "name": "stdout",
     "output_type": "stream",
     "text": [
      "佟丽娅真好看，\n",
      "陈思诚是个狗东西\n"
     ]
    },
    {
     "name": "stderr",
     "output_type": "stream",
     "text": [
      "Dumping model to file cache /var/folders/9j/lcz7xrtn1wz6_8x9m2qg2zjc0000gn/T/jieba.cache\n",
      "Loading model cost 0.736 seconds.\n",
      "Prefix dict has been built successfully.\n"
     ]
    },
    {
     "data": {
      "text/plain": [
       "'佟丽娅 真 好看 陈思诚 狗东西'"
      ]
     },
     "execution_count": 14,
     "metadata": {},
     "output_type": "execute_result"
    }
   ],
   "source": [
    "sentence_split('佟丽娅真好看，\\n陈思诚是个狗东西')"
   ]
  },
  {
   "cell_type": "code",
   "execution_count": 15,
   "metadata": {},
   "outputs": [],
   "source": [
    "import os\n",
    "import pickle"
   ]
  },
  {
   "cell_type": "code",
   "execution_count": 16,
   "metadata": {},
   "outputs": [
    {
     "data": {
      "text/html": [
       "<div>\n",
       "<style scoped>\n",
       "    .dataframe tbody tr th:only-of-type {\n",
       "        vertical-align: middle;\n",
       "    }\n",
       "\n",
       "    .dataframe tbody tr th {\n",
       "        vertical-align: top;\n",
       "    }\n",
       "\n",
       "    .dataframe thead th {\n",
       "        text-align: right;\n",
       "    }\n",
       "</style>\n",
       "<table border=\"1\" class=\"dataframe\">\n",
       "  <thead>\n",
       "    <tr style=\"text-align: right;\">\n",
       "      <th></th>\n",
       "      <th>index</th>\n",
       "      <th>id</th>\n",
       "      <th>author</th>\n",
       "      <th>source</th>\n",
       "      <th>content</th>\n",
       "      <th>feature</th>\n",
       "      <th>title</th>\n",
       "      <th>url</th>\n",
       "    </tr>\n",
       "  </thead>\n",
       "  <tbody>\n",
       "    <tr>\n",
       "      <th>0</th>\n",
       "      <td>0</td>\n",
       "      <td>89617</td>\n",
       "      <td>NaN</td>\n",
       "      <td>快科技@http://www.kkj.cn/</td>\n",
       "      <td>此外，自本周（6月12日）起，除小米手机6等15款机型外，其余机型已暂停更新发布（含开发版/...</td>\n",
       "      <td>{\"type\":\"科技\",\"site\":\"cnbeta\",\"commentNum\":\"37\"...</td>\n",
       "      <td>小米MIUI 9首批机型曝光：共计15款</td>\n",
       "      <td>http://www.cnbeta.com/articles/tech/623597.htm</td>\n",
       "    </tr>\n",
       "    <tr>\n",
       "      <th>1</th>\n",
       "      <td>1</td>\n",
       "      <td>89616</td>\n",
       "      <td>NaN</td>\n",
       "      <td>快科技@http://www.kkj.cn/</td>\n",
       "      <td>骁龙835作为唯一通过Windows 10桌面平台认证的ARM处理器，高通强调，不会因为只考...</td>\n",
       "      <td>{\"type\":\"科技\",\"site\":\"cnbeta\",\"commentNum\":\"15\"...</td>\n",
       "      <td>骁龙835在Windows 10上的性能表现有望改善</td>\n",
       "      <td>http://www.cnbeta.com/articles/tech/623599.htm</td>\n",
       "    </tr>\n",
       "    <tr>\n",
       "      <th>2</th>\n",
       "      <td>2</td>\n",
       "      <td>89615</td>\n",
       "      <td>NaN</td>\n",
       "      <td>快科技@http://www.kkj.cn/</td>\n",
       "      <td>此前的一加3T搭载的是3400mAh电池，DashCharge快充规格为5V/4A。\\r\\n...</td>\n",
       "      <td>{\"type\":\"科技\",\"site\":\"cnbeta\",\"commentNum\":\"18\"...</td>\n",
       "      <td>一加手机5细节曝光：3300mAh、充半小时用1天</td>\n",
       "      <td>http://www.cnbeta.com/articles/tech/623601.htm</td>\n",
       "    </tr>\n",
       "    <tr>\n",
       "      <th>3</th>\n",
       "      <td>3</td>\n",
       "      <td>89614</td>\n",
       "      <td>NaN</td>\n",
       "      <td>新华社</td>\n",
       "      <td>这是6月18日在葡萄牙中部大佩德罗冈地区拍摄的被森林大火烧毁的汽车。新华社记者张立云摄\\r\\n</td>\n",
       "      <td>{\"type\":\"国际新闻\",\"site\":\"环球\",\"commentNum\":\"0\",\"j...</td>\n",
       "      <td>葡森林火灾造成至少62人死亡 政府宣布进入紧急状态（组图）</td>\n",
       "      <td>http://world.huanqiu.com/hot/2017-06/10866126....</td>\n",
       "    </tr>\n",
       "    <tr>\n",
       "      <th>4</th>\n",
       "      <td>4</td>\n",
       "      <td>89613</td>\n",
       "      <td>胡淑丽_MN7479</td>\n",
       "      <td>深圳大件事</td>\n",
       "      <td>（原标题：44岁女子跑深圳约会网友被拒，暴雨中裸身奔走……）\\r\\n@深圳交警微博称：昨日清...</td>\n",
       "      <td>{\"type\":\"新闻\",\"site\":\"网易热门\",\"commentNum\":\"978\",...</td>\n",
       "      <td>44岁女子约网友被拒暴雨中裸奔 交警为其披衣相随</td>\n",
       "      <td>http://news.163.com/17/0618/00/CN617P3Q0001875...</td>\n",
       "    </tr>\n",
       "  </tbody>\n",
       "</table>\n",
       "</div>"
      ],
      "text/plain": [
       "   index     id      author                  source  \\\n",
       "0      0  89617         NaN  快科技@http://www.kkj.cn/   \n",
       "1      1  89616         NaN  快科技@http://www.kkj.cn/   \n",
       "2      2  89615         NaN  快科技@http://www.kkj.cn/   \n",
       "3      3  89614         NaN                     新华社   \n",
       "4      4  89613  胡淑丽_MN7479                   深圳大件事   \n",
       "\n",
       "                                             content  \\\n",
       "0  此外，自本周（6月12日）起，除小米手机6等15款机型外，其余机型已暂停更新发布（含开发版/...   \n",
       "1  骁龙835作为唯一通过Windows 10桌面平台认证的ARM处理器，高通强调，不会因为只考...   \n",
       "2  此前的一加3T搭载的是3400mAh电池，DashCharge快充规格为5V/4A。\\r\\n...   \n",
       "3    这是6月18日在葡萄牙中部大佩德罗冈地区拍摄的被森林大火烧毁的汽车。新华社记者张立云摄\\r\\n   \n",
       "4  （原标题：44岁女子跑深圳约会网友被拒，暴雨中裸身奔走……）\\r\\n@深圳交警微博称：昨日清...   \n",
       "\n",
       "                                             feature  \\\n",
       "0  {\"type\":\"科技\",\"site\":\"cnbeta\",\"commentNum\":\"37\"...   \n",
       "1  {\"type\":\"科技\",\"site\":\"cnbeta\",\"commentNum\":\"15\"...   \n",
       "2  {\"type\":\"科技\",\"site\":\"cnbeta\",\"commentNum\":\"18\"...   \n",
       "3  {\"type\":\"国际新闻\",\"site\":\"环球\",\"commentNum\":\"0\",\"j...   \n",
       "4  {\"type\":\"新闻\",\"site\":\"网易热门\",\"commentNum\":\"978\",...   \n",
       "\n",
       "                           title  \\\n",
       "0           小米MIUI 9首批机型曝光：共计15款   \n",
       "1     骁龙835在Windows 10上的性能表现有望改善   \n",
       "2      一加手机5细节曝光：3300mAh、充半小时用1天   \n",
       "3  葡森林火灾造成至少62人死亡 政府宣布进入紧急状态（组图）   \n",
       "4       44岁女子约网友被拒暴雨中裸奔 交警为其披衣相随   \n",
       "\n",
       "                                                 url  \n",
       "0     http://www.cnbeta.com/articles/tech/623597.htm  \n",
       "1     http://www.cnbeta.com/articles/tech/623599.htm  \n",
       "2     http://www.cnbeta.com/articles/tech/623601.htm  \n",
       "3  http://world.huanqiu.com/hot/2017-06/10866126....  \n",
       "4  http://news.163.com/17/0618/00/CN617P3Q0001875...  "
      ]
     },
     "execution_count": 16,
     "metadata": {},
     "output_type": "execute_result"
    }
   ],
   "source": [
    "data.head()"
   ]
  },
  {
   "cell_type": "code",
   "execution_count": 17,
   "metadata": {},
   "outputs": [],
   "source": [
    "if os.path.exists('./have_cut.pkl'):\n",
    "    with open('./have_cut.pkl', 'rb') as file:\n",
    "        have_cut = pickle.load(file)\n",
    "\n",
    "else:\n",
    "    have_cut = data['content'].apply(sentence_split)\n",
    "    # 保存到本地，方便下次读取\n",
    "    with open('./have_cut.pkl', 'wb') as file:\n",
    "        pickle.dump(have_cut, file)"
   ]
  },
  {
   "cell_type": "code",
   "execution_count": 18,
   "metadata": {},
   "outputs": [
    {
     "data": {
      "text/plain": [
       "0        此外 本周 除 小米 手机 款 机型 外 机型 暂停 更新 发布 含 开发 版 体验版 内测...\n",
       "1        骁龙 835 唯一 Windows10 桌面 平台 认证 ARM 处理器 高通 强调 不会 ...\n",
       "2        此前 一加 3T 搭载 3400mAh 电池 DashCharge 快充 规格 5V 4A ...\n",
       "3        这是 18 葡萄牙 中部 佩德罗 冈 地区 拍摄 森林 大火 烧毁 汽车 新华社 记者 张立 云摄\n",
       "4        原 标题 44 岁 女子 跑 深圳 约会 网友 拒 暴雨 裸身 奔走 … … @ 深圳 交警...\n",
       "                               ...                        \n",
       "87047    新华社 照片 多伦多 2017 \\ n 体育 冰球 国家 女子 冰球队 海外 选秀 多伦多 ...\n",
       "87048    新华社 兰州 日电 王衡 徐丹 记者 甘肃省 交通运输 厅 获悉 甘肃 近日 集中 开建 高...\n",
       "87049    \\ n \\ n2017 29 法国巴黎 郊外 凡尔赛宫 法国 总统 马克 龙 出席 新闻 发...\n",
       "87050    \\ n \\ n2017 25 美国 马萨诸塞州 剑桥市 哈佛大学 毕业生 毕业典礼 欢呼 新...\n",
       "87051    　 　 新华社 德国 杜塞尔多夫 ６ ６ 日电 题 乒乓 女球迷 　 \\ n 　 　 新华社...\n",
       "Name: content, Length: 87052, dtype: object"
      ]
     },
     "execution_count": 18,
     "metadata": {},
     "output_type": "execute_result"
    }
   ],
   "source": [
    "have_cut"
   ]
  },
  {
   "cell_type": "code",
   "execution_count": 19,
   "metadata": {},
   "outputs": [
    {
     "data": {
      "text/plain": [
       "pandas.core.series.Series"
      ]
     },
     "execution_count": 19,
     "metadata": {},
     "output_type": "execute_result"
    }
   ],
   "source": [
    "type(have_cut)"
   ]
  },
  {
   "cell_type": "markdown",
   "metadata": {},
   "source": [
    "## 生成tf_idf矩阵"
   ]
  },
  {
   "cell_type": "code",
   "execution_count": 20,
   "metadata": {},
   "outputs": [],
   "source": [
    "from sklearn.feature_extraction.text import CountVectorizer, TfidfTransformer \n",
    "from sklearn.model_selection import train_test_split "
   ]
  },
  {
   "cell_type": "code",
   "execution_count": 21,
   "metadata": {},
   "outputs": [],
   "source": [
    "label = np.array([1 if '新华社' in i else 0 for i in data.source])"
   ]
  },
  {
   "cell_type": "code",
   "execution_count": 22,
   "metadata": {},
   "outputs": [
    {
     "data": {
      "text/plain": [
       "78674"
      ]
     },
     "execution_count": 22,
     "metadata": {},
     "output_type": "execute_result"
    }
   ],
   "source": [
    "sum(label)"
   ]
  },
  {
   "cell_type": "code",
   "execution_count": 23,
   "metadata": {},
   "outputs": [
    {
     "data": {
      "text/plain": [
       "(87052, 8)"
      ]
     },
     "execution_count": 23,
     "metadata": {},
     "output_type": "execute_result"
    }
   ],
   "source": [
    "data.shape"
   ]
  },
  {
   "cell_type": "code",
   "execution_count": 24,
   "metadata": {},
   "outputs": [],
   "source": [
    "### 87052篇文章中抄袭的文章有78674篇，占比还挺高"
   ]
  },
  {
   "cell_type": "code",
   "execution_count": 25,
   "metadata": {},
   "outputs": [],
   "source": [
    "X_train,X_test,y_train,y_test = train_test_split(have_cut,label,test_size = 0.25)"
   ]
  },
  {
   "cell_type": "code",
   "execution_count": 26,
   "metadata": {},
   "outputs": [],
   "source": [
    "countvectorizer = CountVectorizer(encoding='gb18030', min_df=0.01)"
   ]
  },
  {
   "cell_type": "code",
   "execution_count": 27,
   "metadata": {},
   "outputs": [],
   "source": [
    "countvector_train = countvectorizer.fit_transform(X_train)"
   ]
  },
  {
   "cell_type": "code",
   "execution_count": 28,
   "metadata": {},
   "outputs": [
    {
     "data": {
      "text/plain": [
       "(65289, 1399)"
      ]
     },
     "execution_count": 28,
     "metadata": {},
     "output_type": "execute_result"
    }
   ],
   "source": [
    "countvector_train.shape"
   ]
  },
  {
   "cell_type": "code",
   "execution_count": 29,
   "metadata": {},
   "outputs": [],
   "source": [
    "countvector_train_array = countvector_train.toarray()"
   ]
  },
  {
   "cell_type": "code",
   "execution_count": 30,
   "metadata": {},
   "outputs": [],
   "source": [
    "countvector_test_array = countvectorizer.transform(X_test).toarray()"
   ]
  },
  {
   "cell_type": "code",
   "execution_count": 31,
   "metadata": {},
   "outputs": [],
   "source": [
    "### 转化为tf-idf的矩阵\n",
    "tfidftransformer = TfidfTransformer()\n",
    "tfidf_train = tfidftransformer.fit_transform(countvector_train_array).toarray()\n",
    "tfidf_test = tfidftransformer.transform(countvector_test_array).toarray()"
   ]
  },
  {
   "cell_type": "code",
   "execution_count": 32,
   "metadata": {},
   "outputs": [
    {
     "data": {
      "text/plain": [
       "(65289,)"
      ]
     },
     "execution_count": 32,
     "metadata": {},
     "output_type": "execute_result"
    }
   ],
   "source": [
    "X_train.shape"
   ]
  },
  {
   "cell_type": "code",
   "execution_count": 33,
   "metadata": {},
   "outputs": [
    {
     "data": {
      "text/plain": [
       "(65289, 1399)"
      ]
     },
     "execution_count": 33,
     "metadata": {},
     "output_type": "execute_result"
    }
   ],
   "source": [
    "tfidf_train.shape"
   ]
  },
  {
   "cell_type": "code",
   "execution_count": 34,
   "metadata": {},
   "outputs": [
    {
     "data": {
      "text/plain": [
       "array([[0., 0., 0., ..., 0., 0., 0.],\n",
       "       [0., 0., 0., ..., 0., 0., 0.],\n",
       "       [0., 0., 0., ..., 0., 0., 0.],\n",
       "       [0., 0., 0., ..., 0., 0., 0.],\n",
       "       [0., 0., 0., ..., 0., 0., 0.]])"
      ]
     },
     "execution_count": 34,
     "metadata": {},
     "output_type": "execute_result"
    }
   ],
   "source": [
    "tfidf_train[:5]"
   ]
  },
  {
   "cell_type": "markdown",
   "metadata": {},
   "source": [
    "### 进行分类预测"
   ]
  },
  {
   "cell_type": "code",
   "execution_count": 35,
   "metadata": {},
   "outputs": [],
   "source": [
    "from sklearn.ensemble import AdaBoostClassifier\n",
    "from sklearn.tree import DecisionTreeClassifier"
   ]
  },
  {
   "cell_type": "code",
   "execution_count": 36,
   "metadata": {},
   "outputs": [],
   "source": [
    "bdt = AdaBoostClassifier(DecisionTreeClassifier(max_depth=2, min_samples_split=20, min_samples_leaf=5),\n",
    "                         algorithm=\"SAMME\",\n",
    "                         n_estimators=100, learning_rate=0.5)"
   ]
  },
  {
   "cell_type": "code",
   "execution_count": 37,
   "metadata": {},
   "outputs": [
    {
     "data": {
      "text/plain": [
       "AdaBoostClassifier(algorithm='SAMME',\n",
       "                   base_estimator=DecisionTreeClassifier(max_depth=2,\n",
       "                                                         min_samples_leaf=5,\n",
       "                                                         min_samples_split=20),\n",
       "                   learning_rate=0.5, n_estimators=100)"
      ]
     },
     "execution_count": 37,
     "metadata": {},
     "output_type": "execute_result"
    }
   ],
   "source": [
    "bdt.fit(tfidf_train, y_train)"
   ]
  },
  {
   "cell_type": "code",
   "execution_count": 38,
   "metadata": {},
   "outputs": [],
   "source": [
    "from sklearn.metrics import classification_report"
   ]
  },
  {
   "cell_type": "code",
   "execution_count": 39,
   "metadata": {},
   "outputs": [],
   "source": [
    "y_train_pred = bdt.predict(tfidf_train)\n",
    "y_test_pred = bdt.predict(tfidf_test)"
   ]
  },
  {
   "cell_type": "code",
   "execution_count": 40,
   "metadata": {},
   "outputs": [
    {
     "name": "stdout",
     "output_type": "stream",
     "text": [
      "              precision    recall  f1-score   support\n",
      "\n",
      "      others       0.92      0.95      0.93      1983\n",
      "         新华社       0.99      0.99      0.99     19780\n",
      "\n",
      "    accuracy                           0.99     21763\n",
      "   macro avg       0.96      0.97      0.96     21763\n",
      "weighted avg       0.99      0.99      0.99     21763\n",
      "\n"
     ]
    }
   ],
   "source": [
    "print(classification_report(y_test, y_test_pred, labels=[0, 1], target_names=['others', '新华社']))"
   ]
  },
  {
   "cell_type": "code",
   "execution_count": 41,
   "metadata": {},
   "outputs": [
    {
     "name": "stdout",
     "output_type": "stream",
     "text": [
      "              precision    recall  f1-score   support\n",
      "\n",
      "      others       0.93      0.94      0.94      6395\n",
      "          新华       0.99      0.99      0.99     58894\n",
      "\n",
      "    accuracy                           0.99     65289\n",
      "   macro avg       0.96      0.97      0.96     65289\n",
      "weighted avg       0.99      0.99      0.99     65289\n",
      "\n"
     ]
    }
   ],
   "source": [
    "print(classification_report(y_train, y_train_pred, labels=[0, 1], target_names=['others', '新华']))"
   ]
  },
  {
   "cell_type": "markdown",
   "metadata": {},
   "source": [
    "### 应用模型进行预测  \n",
    "- 也就是模型判断文章为新华社的，但是实际不是新华的，这种应该交由人工做重点审查"
   ]
  },
  {
   "cell_type": "code",
   "execution_count": 42,
   "metadata": {},
   "outputs": [
    {
     "data": {
      "text/plain": [
       "numpy.ndarray"
      ]
     },
     "execution_count": 42,
     "metadata": {},
     "output_type": "execute_result"
    }
   ],
   "source": [
    "type(tfidf_test)"
   ]
  },
  {
   "cell_type": "code",
   "execution_count": 43,
   "metadata": {},
   "outputs": [],
   "source": [
    "tfidf_all = np.vstack((tfidf_test,tfidf_train))\n",
    "label_all = np.hstack((y_test,y_train))"
   ]
  },
  {
   "cell_type": "code",
   "execution_count": 44,
   "metadata": {},
   "outputs": [],
   "source": [
    "label_predict = bdt.predict(tfidf_all)"
   ]
  },
  {
   "cell_type": "code",
   "execution_count": 45,
   "metadata": {},
   "outputs": [],
   "source": [
    "index1 = list((label_all) != 1 & (label_predict ==1))"
   ]
  },
  {
   "cell_type": "code",
   "execution_count": 46,
   "metadata": {},
   "outputs": [
    {
     "data": {
      "text/plain": [
       "list"
      ]
     },
     "execution_count": 46,
     "metadata": {},
     "output_type": "execute_result"
    }
   ],
   "source": [
    "type(index1)"
   ]
  },
  {
   "cell_type": "code",
   "execution_count": 47,
   "metadata": {},
   "outputs": [],
   "source": [
    "X_all = X_test.append(X_train)"
   ]
  },
  {
   "cell_type": "code",
   "execution_count": 48,
   "metadata": {},
   "outputs": [
    {
     "data": {
      "text/plain": [
       "24432    新华社 照片 深州 河北 2017 13 \\ n 河北 深州 非遗 文化 进校园 \\ n4 ...\n",
       "24856    新华社 照片 外代 2017 14 \\ n 外代 二线 足球 欧罗巴 联赛 里昂 战胜 贝西...\n",
       "60972    新华社 照片 外代 2017 16 \\ n 外代 二线 无名 湖上 海鸥 \\ n5 海鸥 俄...\n",
       "84284    　 　 我社 内部 分工 调整 现将 发稿 值班 联系电话 公布 如下 \\ n 国内部 负责...\n",
       "71954    新华社 照片 长春 2017 25 \\ n 吉林 外国人 感受 端午 文化 \\ n5 25 ...\n",
       "                               ...                        \n",
       "34701    新华社 照片 重庆 2017 22 \\ n 第十七届 中国 青少年 机器人 竞赛 重庆 赛区...\n",
       "43751    　 　 海上 军演 消停 　 半岛 局势 惹人忧 \\ n 　 　 　 　 杜鹃 \\ n 　 ...\n",
       "65462    新华社 照片 戛纳 法国 2017 19 \\ n 国际 影片 玉子 主创 亮相 戛纳 \\ n...\n",
       "8420     佛山 南海 西樵山 听音 湖畔 崛起 一座 岭南 文旅 小镇 13 上午 凝聚 动能 布局 ...\n",
       "42480    新华社 照片 外代 2017 29 \\ n 外代 二线 西班牙 斗牛士 英姿 \\ n4 28...\n",
       "Name: content, Length: 87052, dtype: object"
      ]
     },
     "execution_count": 48,
     "metadata": {},
     "output_type": "execute_result"
    }
   ],
   "source": [
    "X_all"
   ]
  },
  {
   "cell_type": "code",
   "execution_count": 49,
   "metadata": {},
   "outputs": [],
   "source": [
    "doc_copy_cut = X_all.loc[index1]"
   ]
  },
  {
   "cell_type": "code",
   "execution_count": 50,
   "metadata": {},
   "outputs": [
    {
     "data": {
      "text/plain": [
       "52359                                              \\ n \\ n\n",
       "85837    \\ n \\ n \\ n \\ n2017 高考 即将来临 今年 称为 高考 元年 2014 国...\n",
       "2290     点击 图片 进入 一页 春节 期间 廖俊波 左一 政和县 松源村 慰问 群众 2015 日摄...\n",
       "5675     昨天 故宫 老农 专门 开 场 追思会 　 　 新华社 电 记者 双瑞 王 林园 　 昨日 ...\n",
       "4508     凤凰 WEMONEY 讯 中国 金融 改革 发展 不仅 全球 视野 更要 经济 视野 不能 ...\n",
       "                               ...                        \n",
       "7599     图文 鱼水情深 满 香江 ― ― 驻 香港 部队 探索 构建 特殊 条件 新型 军政 军民关...\n",
       "6408     21 首轮 美 外交 安全 对话 美国 华盛顿 举行 这是 一场 建设性 富有成果 对话 国...\n",
       "59011            \\ nhttp h5 zmiti com public beltRoad1 \\ n\n",
       "7590     北京 时间 21 凌晨 摩根士丹利 资本 国际 公司 MSCI 宣布 A股 纳入 MSCI ...\n",
       "6316     新华社 济南 22 日电 记者 萧海川 记者 国家 超级 计算 济南 中心 获悉 我国 下一...\n",
       "Name: content, Length: 1096, dtype: object"
      ]
     },
     "execution_count": 50,
     "metadata": {},
     "output_type": "execute_result"
    }
   ],
   "source": [
    "doc_copy_cut"
   ]
  },
  {
   "cell_type": "code",
   "execution_count": 52,
   "metadata": {},
   "outputs": [],
   "source": [
    "doc_copy = data.loc[doc_copy_cut.index]"
   ]
  },
  {
   "cell_type": "code",
   "execution_count": 53,
   "metadata": {},
   "outputs": [
    {
     "name": "stdout",
     "output_type": "stream",
     "text": [
      "新华社\n",
      "新华社\n",
      "新华社\n",
      "新华社\n",
      "新华社\n",
      "新华社\n",
      "新华社\n",
      "新华社\n",
      "新华社\n",
      "新华社\n",
      "新华社\n",
      "新华社\n",
      "新华社\n",
      "新华社\n",
      "新华社\n",
      "新华社\n",
      "新华社\n",
      "新华社\n",
      "新华社\n",
      "新华社\n",
      "新华社\n",
      "新华社\n",
      "新华社\n",
      "新华社\n",
      "新华社\n",
      "新华社\n",
      "新华社\n",
      "新华社\n",
      "新华社\n",
      "新华社\n",
      "新华社\n",
      "新华社\n",
      "新华社\n",
      "新华社\n",
      "新华社\n",
      "新华社\n",
      "新华社\n",
      "新华社\n",
      "新华社\n",
      "新华社\n",
      "新华社\n",
      "新华社\n",
      "新华社\n",
      "新华社\n",
      "新华社\n",
      "新华社\n",
      "新华社\n",
      "新华社\n",
      "新华社\n",
      "新华社\n",
      "新华社\n",
      "新华社\n",
      "新华社\n",
      "新华社\n",
      "新华社\n",
      "新华社\n",
      "新华社\n",
      "新华社\n",
      "新华社\n",
      "新华社\n",
      "新华社\n",
      "新华社\n",
      "新华社\n",
      "新华社\n",
      "新华社\n",
      "新华社\n",
      "新华社\n",
      "新华社\n",
      "新华社\n",
      "新华社\n",
      "新华社\n",
      "新华社\n",
      "新华社\n",
      "新华社\n",
      "新华社\n",
      "新华社\n",
      "新华社\n",
      "新华社\n",
      "新华社\n",
      "新华社\n",
      "新华社\n",
      "新华社\n",
      "新华社\n",
      "新华社\n",
      "新华社\n",
      "新华社\n",
      "新华社\n",
      "新华社\n",
      "新华社\n",
      "新华社\n",
      "新华社\n",
      "新华社\n",
      "新华社\n",
      "新华社\n",
      "新华社\n",
      "新华社\n",
      "新华社\n",
      "新华社\n",
      "新华社\n",
      "新华社\n",
      "新华社\n",
      "新华社\n",
      "新华社\n",
      "新华社\n",
      "新华社\n",
      "新华社\n",
      "新华社\n",
      "新华社\n",
      "新华社\n",
      "新华社\n",
      "新华社\n",
      "新华社\n",
      "新华社\n",
      "新华社\n",
      "新华社\n",
      "新华社\n",
      "新华社\n",
      "新华社\n",
      "新华社\n",
      "新华社\n",
      "新华社\n",
      "新华社\n",
      "新华社\n",
      "新华社\n",
      "新华社\n",
      "新华社\n",
      "新华社\n",
      "新华社\n",
      "新华社\n",
      "新华社\n",
      "新华社@\n",
      "新华社\n",
      "新华社\n",
      "新华社\n",
      "新华社\n",
      "新华社\n",
      "新华社\n",
      "新华社\n",
      "新华社\n",
      "新华社\n",
      "新华社\n",
      "新华社\n",
      "新华社\n",
      "新华社\n",
      "新华社\n",
      "新华社\n",
      "新华社\n",
      "新华社\n",
      "新华社\n",
      "新华社\n",
      "新华社\n",
      "新华社\n",
      "新华社\n",
      "新华社\n",
      "新华社\n",
      "新华社\n",
      "新华社\n",
      "新华社\n",
      "新华社\n",
      "新华社\n",
      "新华社\n",
      "新华社\n",
      "新华社\n",
      "新华社\n",
      "新华社\n",
      "新华社\n",
      "新华社\n",
      "新华社\n",
      "新华社\n",
      "新华社\n",
      "新华社\n",
      "新华社\n",
      "新华社\n",
      "新华社\n",
      "新华社\n",
      "新华社\n",
      "新华社\n",
      "新华社\n",
      "新华社\n",
      "新华社\n",
      "新华社\n",
      "新华社\n",
      "新华社\n",
      "新华社\n",
      "新华社\n",
      "新华社\n",
      "新华社\n",
      "新华社\n",
      "新华社\n",
      "新华社\n",
      "新华社\n",
      "新华社\n",
      "新华社\n",
      "新华社\n",
      "新华社\n",
      "新华社\n",
      "新华社\n",
      "新华社\n",
      "新华社\n",
      "新华社\n",
      "新华社\n",
      "新华社\n",
      "新华社\n",
      "新华社\n",
      "新华社\n",
      "新华社\n",
      "新华社\n",
      "新华社\n",
      "新华社\n",
      "新华社\n",
      "新华社\n",
      "新华社\n",
      "新华社\n",
      "新华社\n",
      "新华社\n",
      "新华社\n",
      "新华社\n",
      "新华社\n",
      "新华社\n",
      "新华社\n",
      "新华社\n",
      "新华社\n",
      "新华社\n",
      "新华社\n",
      "新华社\n",
      "新华社\n",
      "新华社\n",
      "新华社\n",
      "新华社\n",
      "新华社\n",
      "新华社\n",
      "新华社\n",
      "新华社\n",
      "新华社\n",
      "新华社\n",
      "新华社\n",
      "新华社\n",
      "新华社\n",
      "新华社\n",
      "新华社\n",
      "新华社\n",
      "新华社\n",
      "新华社\n",
      "新华社\n",
      "新华社\n",
      "新华社\n",
      "新华社\n",
      "新华社\n",
      "新华社\n",
      "新华社\n",
      "新华社\n",
      "新华社\n",
      "新华社\n",
      "新华社\n",
      "新华社\n",
      "新华社\n",
      "新华社\n",
      "新华社\n",
      "新华社\n",
      "新华社\n",
      "新华社\n",
      "新华社\n",
      "新华社\n",
      "新华社\n",
      "新华社\n",
      "新华社\n",
      "新华社\n",
      "新华社\n",
      "新华社\n",
      "新华社\n",
      "新华社\n",
      "新华社\n",
      "新华社\n",
      "新华社\n",
      "新华社\n",
      "新华社新媒体专线\n",
      "新华社\n",
      "新华社\n",
      "新华社\n",
      "新华社\n",
      "新华社\n",
      "新华社\n",
      "新华社\n",
      "新华社\n",
      "新华社\n",
      "新华社\n",
      "新华社\n",
      "新华社\n",
      "新华社\n",
      "新华社\n",
      "新华社\n",
      "新华社\n",
      "新华社\n",
      "新华社\n",
      "新华社\n",
      "新华社\n",
      "新华社\n",
      "新华社\n",
      "新华社\n",
      "新华社\n",
      "新华社\n",
      "新华社\n",
      "新华社\n",
      "新华社\n",
      "新华社\n",
      "新华社\n",
      "新华社\n",
      "新华社\n",
      "新华社\n",
      "新华社\n",
      "新华社\n",
      "新华社\n",
      "新华社\n",
      "新华社\n",
      "新华社\n",
      "新华社\n",
      "新华社\n",
      "新华社\n",
      "新华社\n",
      "新华社\n",
      "新华社\n",
      "新华社\n",
      "新华社\n",
      "新华社\n",
      "新华社\n",
      "新华社\n",
      "新华社\n",
      "新华社\n",
      "新华社\n",
      "新华社\n",
      "新华社\n",
      "新华社\n",
      "新华社\n",
      "新华社\n",
      "新华社\n",
      "新华社\n",
      "新华社\n",
      "新华社\n",
      "新华社\n",
      "新华社\n",
      "新华社\n",
      "新华社\n",
      "新华社\n",
      "新华社\n",
      "新华社\n",
      "新华社\n",
      "新华社\n",
      "新华社\n",
      "新华社\n",
      "新华社\n",
      "新华社\n",
      "新华社\n",
      "新华社\n",
      "新华社\n",
      "新华社\n",
      "新华社\n",
      "新华社\n",
      "新华社\n",
      "新华社\n",
      "新华社\n",
      "新华社\n",
      "新华社\n",
      "新华社\n",
      "新华社\n",
      "新华社\n",
      "新华社\n",
      "新华社\n",
      "新华社\n",
      "新华社\n",
      "新华社\n",
      "新华社\n",
      "新华社\n",
      "新华社\n",
      "新华社\n",
      "新华社\n",
      "新华社\n",
      "新华社\n",
      "新华社\n",
      "新华社\n",
      "新华社\n",
      "新华社\n",
      "新华社\n",
      "新华社\n",
      "新华社\n",
      "新华社\n",
      "新华社\n",
      "新华社\n",
      "新华社\n",
      "新华社\n",
      "新华社\n",
      "新华社\n",
      "新华社\n",
      "新华社\n",
      "新华社\n",
      "新华社\n",
      "新华社\n",
      "新华社\n",
      "新华社\n",
      "新华社\n",
      "新华社\n",
      "新华社\n",
      "新华社\n",
      "新华社\n",
      "新华社\n",
      "新华社\n",
      "新华社\n",
      "新华社\n",
      "新华社\n",
      "新华社\n",
      "新华社\n",
      "新华社\n",
      "新华社\n",
      "新华社\n",
      "新华社\n",
      "新华社\n",
      "新华社\n",
      "新华社\n",
      "新华社\n",
      "新华社\n",
      "新华社\n",
      "新华社\n",
      "新华社\n",
      "新华社\n",
      "新华社\n",
      "新华社\n",
      "新华社\n",
      "新华社\n",
      "新华社\n",
      "新华社\n",
      "新华社\n",
      "新华社\n",
      "新华社\n",
      "新华社\n",
      "新华社\n",
      "新华社\n",
      "新华社\n",
      "新华社\n",
      "新华社\n",
      "新华社\n",
      "新华社\n",
      "新华社\n",
      "新华社\n",
      "新华社\n",
      "新华社\n",
      "新华社\n",
      "新华社\n",
      "新华社\n",
      "新华社\n",
      "新华社\n",
      "新华社\n",
      "新华社\n",
      "新华社\n",
      "新华社\n",
      "新华社\n",
      "新华社\n",
      "新华社\n",
      "新华社\n",
      "新华社\n",
      "新华社\n",
      "新华社\n",
      "新华社\n",
      "新华社\n",
      "新华社\n",
      "新华社\n",
      "新华社\n",
      "新华社\n",
      "新华社\n",
      "新华社\n",
      "新华社\n",
      "新华社\n",
      "新华社\n",
      "新华社\n",
      "新华社\n",
      "新华社\n",
      "新华社\n",
      "新华社\n",
      "新华社\n",
      "新华社\n",
      "新华社\n",
      "新华社\n",
      "新华社\n",
      "新华社\n",
      "新华社\n",
      "新华社\n",
      "新华社\n",
      "新华社\n",
      "新华社\n",
      "新华社\n",
      "新华社\n",
      "新华社\n",
      "新华社\n",
      "新华社\n",
      "新华社\n",
      "新华社\n",
      "新华社\n",
      "新华社\n",
      "新华社\n",
      "新华社\n",
      "新华社\n",
      "新华社\n",
      "新华社\n",
      "新华社\n",
      "新华社\n",
      "新华社\n",
      "新华社\n",
      "新华社\n",
      "新华社\n",
      "新华社\n",
      "新华社\n",
      "新华社\n",
      "新华社\n",
      "新华社\n",
      "新华社\n",
      "新华社\n",
      "新华社\n",
      "新华社\n",
      "新华社\n",
      "新华社\n",
      "新华社\n",
      "新华社\n",
      "新华社\n",
      "新华社\n",
      "新华社\n",
      "新华社\n",
      "新华社\n",
      "新华社\n",
      "新华社\n",
      "新华社\n",
      "新华社\n",
      "新华社\n",
      "新华社\n",
      "新华社\n",
      "新华社\n",
      "新华社\n",
      "新华社\n",
      "新华社\n",
      "新华社\n",
      "新华社\n",
      "新华社\n",
      "新华社\n",
      "新华社\n",
      "新华社\n",
      "新华社\n",
      "新华社\n",
      "新华社\n",
      "新华社\n",
      "新华社\n",
      "新华社\n",
      "新华社\n",
      "新华社\n",
      "新华社\n",
      "新华社\n",
      "新华社\n",
      "新华社\n",
      "新华社\n",
      "新华社\n",
      "新华社\n",
      "新华社\n",
      "新华社\n",
      "新华社\n",
      "新华社\n",
      "新华社\n",
      "新华社\n",
      "新华社\n",
      "新华社\n",
      "新华社\n",
      "新华社\n",
      "新华社\n",
      "新华社\n",
      "新华社@http://tech.huanqiu.com/intelligent/2017-06/10868069.html?qq-pf-to=pcqq.c2c\n",
      "新华社\n",
      "新华社\n",
      "新华社\n",
      "新华社\n",
      "新华社\n",
      "新华社\n",
      "新华社\n",
      "新华社\n",
      "新华社\n",
      "新华社\n",
      "新华社\n",
      "新华社\n",
      "新华社\n",
      "新华社\n",
      "新华社\n",
      "新华社\n",
      "新华社\n",
      "新华社\n",
      "新华社\n",
      "新华社\n",
      "新华社\n",
      "新华社\n",
      "新华社\n",
      "新华社\n",
      "新华社\n",
      "新华社\n",
      "新华社\n",
      "新华社\n",
      "新华社\n",
      "新华社\n",
      "新华社\n",
      "新华社\n",
      "新华社\n",
      "新华社\n",
      "新华社\n",
      "新华社\n",
      "新华社\n",
      "新华社\n",
      "新华社\n",
      "新华社\n",
      "新华社\n",
      "新华社\n"
     ]
    }
   ],
   "source": [
    "for i in doc_copy.source:\n",
    "    if '新华社' in i:\n",
    "        print(i)"
   ]
  },
  {
   "cell_type": "code",
   "execution_count": 54,
   "metadata": {},
   "outputs": [],
   "source": [
    "for i in range(len(label)):\n",
    "    if label[i] == 1 and '新华社' not in data['source'].loc[i]:\n",
    "        print(i)"
   ]
  },
  {
   "cell_type": "code",
   "execution_count": 55,
   "metadata": {},
   "outputs": [
    {
     "data": {
      "text/plain": [
       "(87052, 8)"
      ]
     },
     "execution_count": 55,
     "metadata": {},
     "output_type": "execute_result"
    }
   ],
   "source": [
    "data.shape"
   ]
  },
  {
   "cell_type": "code",
   "execution_count": 56,
   "metadata": {},
   "outputs": [
    {
     "data": {
      "text/plain": [
       "True"
      ]
     },
     "execution_count": 56,
     "metadata": {},
     "output_type": "execute_result"
    }
   ],
   "source": [
    "5134 in data.index"
   ]
  },
  {
   "cell_type": "code",
   "execution_count": null,
   "metadata": {},
   "outputs": [],
   "source": []
  }
 ],
 "metadata": {
  "kernelspec": {
   "display_name": "Python 3",
   "language": "python",
   "name": "python3"
  },
  "language_info": {
   "codemirror_mode": {
    "name": "ipython",
    "version": 3
   },
   "file_extension": ".py",
   "mimetype": "text/x-python",
   "name": "python",
   "nbconvert_exporter": "python",
   "pygments_lexer": "ipython3",
   "version": "3.8.3"
  }
 },
 "nbformat": 4,
 "nbformat_minor": 4
}
