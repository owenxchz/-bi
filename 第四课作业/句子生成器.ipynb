{
 "cells": [
  {
   "cell_type": "markdown",
   "metadata": {},
   "source": [
    "- 设计你自己的句子生成器\n",
    "- grammar = '''\n",
    "- 战斗 => 施法  ， 结果 。\n",
    "- 施法 => 主语 动作 技能 \n",
    "- 结果 => 主语 获得 效果\n",
    "- 主语 => 张飞 | 关羽 | 赵云 | 典韦 | 许褚 | 刘备 | 黄忠 | 曹操 | 鲁班七号 | 貂蝉\n",
    "- 动作 => 施放 | 使用 | 召唤 \n",
    "- 技能 => 一骑当千 | 单刀赴会 | 青龙偃月 | 刀锋铁骑 | 黑暗潜能 | 画地为牢 | 守护机关 | 狂兽血性 | 龙鸣 | 惊雷之龙 | 破云之龙 | 天翔之龙\n",
    "- 获得 => 损失 | 获得 \n",
    "- 效果 => 数值 状态\n",
    "- 数值 => 1 | 1000 |5000 | 100 \n",
    "- 状态 => 法力 | 生命\n",
    "- '''"
   ]
  },
  {
   "cell_type": "code",
   "execution_count": 6,
   "metadata": {
    "collapsed": true
   },
   "outputs": [],
   "source": [
    "zhuyu = '张飞 | 关羽 | 赵云 | 典韦 | 许褚 | 刘备 | 黄忠 | 曹操 | 鲁班七号 | 貂蝉'.split('|')\n",
    "zhuyu= [i.strip() for i in zhuyu]\n",
    "dongzuo = '施放 | 使用 | 召唤'.split('|')\n",
    "dongzuo = [i.strip() for i in dongzuo]\n",
    "jinen = '一骑当千 | 单刀赴会 | 青龙偃月 | 刀锋铁骑 | 黑暗潜能 | 画地为牢 | 守护机关 | 狂兽血性 | 龙鸣 | 惊雷之龙 | 破云之龙 | 天翔之龙'.split('|')\n",
    "jinen = [i.strip() for i in jinen]\n",
    "huode = '损失 | 获得'.split('|')\n",
    "huode = [i.strip() for i in huode]\n",
    "shuzhi = '1 | 1000 |5000 | 100'.split('|')\n",
    "shuzhi = [i.strip() for i in shuzhi]\n",
    "zhuangtai = ['法力','生命']"
   ]
  },
  {
   "cell_type": "code",
   "execution_count": 7,
   "metadata": {
    "collapsed": true
   },
   "outputs": [],
   "source": [
    "import random"
   ]
  },
  {
   "cell_type": "code",
   "execution_count": 19,
   "metadata": {
    "collapsed": true
   },
   "outputs": [],
   "source": [
    "def cal():\n",
    "    施法 = random.choice(zhuyu)+' '+random.choice(dongzuo)+' '+random.choice(jinen)\n",
    "    结果 = random.choice(zhuyu)+' '+random.choice(huode)+' '+random.choice(shuzhi)+' '+random.choice(zhuangtai)\n",
    "    return 施法+', '+结果 "
   ]
  },
  {
   "cell_type": "code",
   "execution_count": 20,
   "metadata": {},
   "outputs": [
    {
     "data": {
      "text/plain": [
       "'刘备 召唤 单刀赴会, 黄忠 损失 1 生命'"
      ]
     },
     "execution_count": 20,
     "metadata": {},
     "output_type": "execute_result"
    }
   ],
   "source": [
    "cal()"
   ]
  },
  {
   "cell_type": "code",
   "execution_count": null,
   "metadata": {
    "collapsed": true
   },
   "outputs": [],
   "source": []
  }
 ],
 "metadata": {
  "kernelspec": {
   "display_name": "Python 3",
   "language": "python",
   "name": "python3"
  },
  "language_info": {
   "codemirror_mode": {
    "name": "ipython",
    "version": 3
   },
   "file_extension": ".py",
   "mimetype": "text/x-python",
   "name": "python",
   "nbconvert_exporter": "python",
   "pygments_lexer": "ipython3",
   "version": "3.6.3"
  }
 },
 "nbformat": 4,
 "nbformat_minor": 2
}
